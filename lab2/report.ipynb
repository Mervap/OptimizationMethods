{
 "cells": [
  {
   "cell_type": "markdown",
   "metadata": {
    "collapsed": true,
    "pycharm": {
     "name": "#%% md\n"
    }
   },
   "source": [
    "# Авторы\n",
    "Студенты группы M3439:\n",
    "\n",
    "- Тепляков Валерий\n",
    "- Плешаков Алексей\n",
    "- Филипчик Андрей"
   ]
  },
  {
   "cell_type": "markdown",
   "metadata": {
    "pycharm": {
     "name": "#%% md\n"
    }
   },
   "source": [
    "# Source code\n",
    "Исходный код можно посмотреть [тут](https://github.com/Mervap/OptimizationMethods/tree/master/lab2)"
   ]
  },
  {
   "cell_type": "code",
   "execution_count": 1,
   "metadata": {
    "pycharm": {
     "name": "#%%\n"
    }
   },
   "outputs": [],
   "source": [
    "import math\n",
    "import tracemalloc\n",
    "from datetime import datetime\n",
    "\n",
    "import numpy as np\n",
    "from matplotlib import pyplot as plt\n",
    "\n",
    "from lab1.plot import plot_graph\n",
    "from lab1.task1.golden_ratio import GoldenRatio\n",
    "from lab1.task2.fastest_gradient_descent import FastestGradientDescent\n",
    "from lab1.watcher import Watcher\n",
    "from lab2.newton import Newton\n",
    "from lab2.conjgrad import ConjGrad"
   ]
  },
  {
   "cell_type": "markdown",
   "metadata": {
    "pycharm": {
     "name": "#%% md\n"
    }
   },
   "source": [
    "# Задание 2"
   ]
  },
  {
   "cell_type": "code",
   "execution_count": 2,
   "metadata": {
    "pycharm": {
     "name": "#%%\n"
    }
   },
   "outputs": [],
   "source": [
    "f1 = (\n",
    "    r'$100(y - x)^2 + (1 - x)^2$',\n",
    "    lambda x, y: 100 * (y - x) ** 2 + (1 - x) ** 2,       # function\n",
    "    lambda x, y: [202 * x - 200 * y - 2, 200 * (y - x)],  # gradient\n",
    "    lambda x, y: [[202, -200], [-200, 200]]               # hessian\n",
    ")\n",
    "\n",
    "f2 = (\n",
    "    r'$100(y - x^2)^2 + (1 - x)^2$',\n",
    "    lambda x, y: 100 * (y - x ** 2) ** 2 + (1 - x) ** 2,                          # function\n",
    "    lambda x, y: [2 * (200 * x ** 3 - 200 * x * y + x - 1), 200 * (y - x ** 2)],  # gradient\n",
    "    lambda x, y: [[1200 * x ** 2 - 400 * y + 2, -400 * x], [-400 * x, 200]],      # hessian\n",
    ")\n",
    "\n",
    "f3_exp_e1 = lambda x, y: math.exp(-(x - 2) ** 2 / 9 - (y - 3) ** 2 / 4)\n",
    "f3_exp_e2 = lambda x, y: math.exp(-(x - 1) ** 2 / 4 - (y - 1) ** 2)\n",
    "\n",
    "f3 = (\n",
    "    r'$-(2e^{-(\\frac{x - 1}{2})^2 - (y - 1)^2)} + 3e^{-(\\frac{x - 2}{3})^2 - (\\frac{y - 3}{2})^2})$',\n",
    "    lambda x, y: (-2 * math.exp(-((x - 1) / 2) ** 2 - (y - 1) ** 2) +\n",
    "                  -3 * math.exp(-((x - 2) / 3) ** 2 - ((y - 3) / 2) ** 2)),\n",
    "    lambda x, y: [\n",
    "        2 / 3 * (x - 2) * f3_exp_e1(x, y) + (x - 1) * f3_exp_e2(x, y),     # df/dx\n",
    "        3 / 2 * (y - 3) * f3_exp_e1(x, y) + 4 * (y - 1) * f3_exp_e2(x, y), # df/dy\n",
    "    ],\n",
    "    lambda x, y: [\n",
    "        [\n",
    "            (-4 / 27 * (x - 2) ** 2 + 2 / 3) * f3_exp_e1(x, y) + (1 - 0.5 * (x - 1) ** 2) * f3_exp_e2(x, y), # df/dx^2\n",
    "            -1 / 3 * (x - 2) * (y - 3) * f3_exp_e1(x, y) - 2 * (x - 1) * (y - 1) * f3_exp_e2(x, y),          # df/dxdy\n",
    "        ],\n",
    "        [\n",
    "            -1 / 3 * (x - 2) * (y - 3) * f3_exp_e1(x, y) - 2 * (x - 1) * (y - 1) * f3_exp_e2(x, y),          # df/dydx\n",
    "            (-3 / 4 * (y - 3) ** 2 + 3 / 2) * f3_exp_e1(x, y) + (4 - 8 * (y - 1) ** 2) * f3_exp_e2(x, y),    # df/dy^2\n",
    "        ]\n",
    "    ]\n",
    ")\n",
    "\n",
    "fs = [f1, f2, f3]"
   ]
  },
  {
   "cell_type": "code",
   "execution_count": 3,
   "metadata": {
    "pycharm": {
     "is_executing": true,
     "name": "#%%\n"
    }
   },
   "outputs": [
    {
     "name": "stdout",
     "output_type": "stream",
     "text": [
      "[0.99989937 0.99989937] 1850\n",
      "[0.99999991 0.99999995] 8\n",
      "[0.99999965 0.99999911] 6\n",
      "[1.00000028 1.00000012] 8\n",
      "[0.99998436 0.99998529] 60\n",
      "[0.99999996 0.99999996] 1\n",
      "[0.99999992 1.00000004] 1\n",
      "[1.00000004 0.99999992] 1\n",
      "[1.00000013 1.00000005] 1\n",
      "[0.99999996 0.99999996] 1\n",
      "[1.00000009 1.00000003] 2\n",
      "[0.99999622 0.99999604] 3\n",
      "[0.99999599 0.99999611] 3\n",
      "[1.00000855 1.00000861] 6\n",
      "[1.00000124 1.00000125] 3\n",
      "[0.99959598 0.99919209] 5100\n",
      "[0.9995701  0.99913996] 6190\n",
      "[1.00001776 1.00003702] 7752\n",
      "[1.00002322 1.00004845] 58\n",
      "[0.99957017 0.99913995] 6941\n",
      "[0.99999994 0.99999987] 13\n",
      "[0.99999988 0.99999976] 22\n",
      "[1.00000005 1.0000001 ] 14\n",
      "[1. 1.] 26\n",
      "[1. 1.] 14\n",
      "[0.99976937 0.99953573] 39\n",
      "[1.00013613 1.00027256] 49\n",
      "[1.00006615 1.0001321 ] 236\n",
      "[0.99996617 0.9999318 ] 222\n",
      "[0.99997681 0.99995554] 30\n",
      "[1.26303439 1.33439516] 14\n",
      "[1.26303448 1.3343956 ] 17\n",
      "[1.26303572 1.33439659] 17\n",
      "[1.96715216 2.88611493] 15\n",
      "[1.26303449 1.33439597] 15\n",
      "[1.26303502 1.33439596] 5\n",
      "[1.26303492 1.33439578] 5\n",
      "[1.26303502 1.33439596] 7\n",
      "[1.96715142 2.88611471] 4\n",
      "[1.26303502 1.33439596] 5\n",
      "[1.2630352  1.33439685] 32\n",
      "[1.26303341 1.33439526] 28\n",
      "[1.967153   2.88611571] 56\n",
      "[1.96715039 2.88611472] 23\n",
      "[1.26303344 1.33439486] 28\n"
     ]
    }
   ],
   "source": [
    "initial_points = [\n",
    "    np.array([0, 0]),\n",
    "    np.array([-1, 2]),\n",
    "    np.array([2, -1]),\n",
    "    np.array([4.2, 2.4]),\n",
    "    np.array([-0.01, 0.05]),\n",
    "]\n",
    "\n",
    "algs = [FastestGradientDescent, Newton, ConjGrad]\n",
    "opts = []\n",
    "times = []\n",
    "mems = []\n",
    "mns = []\n",
    "for (repr, f, grad, hessian) in fs:\n",
    "    f = Watcher(f, grad, hessian)\n",
    "    _opts = {alg: [] for alg in algs}\n",
    "    _mns = { alg: [] for alg in algs }\n",
    "    _times = []\n",
    "    _mems = []\n",
    "    for alg in algs:\n",
    "        # Logs\n",
    "        for ip in initial_points:\n",
    "            try:\n",
    "                opt = alg(f, 1e-6, GoldenRatio)\n",
    "                mn = opt.opt(ip)\n",
    "                _mns[alg].append(mn)\n",
    "                _opts[alg].append(opt)\n",
    "                print(mn, opt.get_iterations_cnt())\n",
    "            except RuntimeError as e:\n",
    "                if hasattr(e, 'message'):\n",
    "                    print(e.message)\n",
    "                else:\n",
    "                    print(e)\n",
    "\n",
    "        # Time/Memory\n",
    "        tracemalloc.start()\n",
    "        mn_time = 1e9\n",
    "        for i in range(5):\n",
    "            st = np.random.randn(2) * 1.5\n",
    "            opt = alg(f, 1e-6, GoldenRatio, preserve_logs=False)\n",
    "            try:\n",
    "                start = datetime.now()\n",
    "                opt.opt(st)\n",
    "                elapsed_time = datetime.now() - start\n",
    "                elapsed_micros = elapsed_time.seconds * 1e6 + elapsed_time.microseconds\n",
    "                mn_time = min(mn_time, elapsed_micros)\n",
    "            except RuntimeError as e:\n",
    "                print(e)\n",
    "                pass\n",
    "        peek_mem = tracemalloc.get_traced_memory()[1] / 1024\n",
    "        tracemalloc.stop()\n",
    "\n",
    "        _times.append(mn_time / 1e3)\n",
    "        _mems.append(peek_mem)\n",
    "    opts.append(_opts)\n",
    "    times.append(_times)\n",
    "    mems.append(_mems)\n",
    "    mns.append(_mns)"
   ]
  },
  {
   "cell_type": "code",
   "execution_count": 4,
   "metadata": {
    "pycharm": {
     "name": "#%%\n"
    }
   },
   "outputs": [
    {
     "data": {
      "image/png": "[encoded data removed]",
      "text/plain": [
       "<Figure size 1584x864 with 9 Axes>"
      ]
     },
     "metadata": {
      "needs_background": "light"
     },
     "output_type": "display_data"
    }
   ],
   "source": [
    "iter_stats = []\n",
    "time_stats = []\n",
    "mem_stats = []\n",
    "for i in range(len(fs)):\n",
    "    title = fs[i][0]\n",
    "    _opts = opts[i]\n",
    "    _times = times[i]\n",
    "    _mems = mems[i]\n",
    "    iter_stat = []\n",
    "    time_stat = []\n",
    "    mem_stat = []\n",
    "    for j in range(len(algs)):\n",
    "        alg = algs[j]\n",
    "        worst_iter = max(map(lambda x: x.get_iterations_cnt(), _opts[alg]))\n",
    "        iter_stat.append(worst_iter)\n",
    "        time_stat.append(_times[j])\n",
    "        mem_stat.append(_mems[j])\n",
    "    iter_stats.append((\"Iterations (cnt)\", title, iter_stat))\n",
    "    time_stats.append((\"Elapsed time (ms)\", title, time_stat))\n",
    "    mem_stats.append((\"Consumed memory (Kb)\", title, mem_stat))\n",
    "\n",
    "alg_names = list(map(lambda x: x.name, algs))\n",
    "fig = plt.figure(figsize=(22, 12))\n",
    "i = 0\n",
    "for (x_label, title, stat) in iter_stats + time_stats + mem_stats:\n",
    "    i += 1\n",
    "    ax = fig.add_subplot(3, len(fs), i)\n",
    "    ax.set_xlabel(x_label, fontsize=15)\n",
    "    ax.set_title(title, fontsize=15)\n",
    "\n",
    "    ax.barh(alg_names, stat, align='center')\n",
    "    ax.set_yticks(np.arange(len(algs)))\n",
    "    ax.set_yticklabels(alg_names)\n",
    "\n",
    "fig.tight_layout()"
   ]
  },
  {
   "cell_type": "code",
   "execution_count": null,
   "metadata": {
    "pycharm": {
     "name": "#%%\n"
    }
   },
   "outputs": [],
   "source": [
    "fig = plt.figure(figsize=(19, 35))\n",
    "for j in range(len(fs)):\n",
    "    for i in range(len(initial_points)):\n",
    "        ip = initial_points[i]\n",
    "        plot_graph(j * 6 + i + 1, fig,\n",
    "                   [opts[j][alg][i] for alg in algs],\n",
    "                   [ip for i in range(len(algs))],\n",
    "                   [mns[j][alg][i] for alg in algs],\n",
    "                   f'{fs[j][0]}\\nst = ({ip[0]}, {ip[1]})', 100, 0, 0,\n",
    "                   plt_size=(6, 3), labels=alg_names)\n",
    "fig.tight_layout()"
   ]
  }
 ],
 "metadata": {
  "kernelspec": {
   "display_name": "Python 3",
   "language": "python",
   "name": "python3"
  },
  "language_info": {
   "codemirror_mode": {
    "name": "ipython",
    "version": 3
   },
   "file_extension": ".py",
   "mimetype": "text/x-python",
   "name": "python",
   "nbconvert_exporter": "python",
   "pygments_lexer": "ipython3",
   "version": "3.7.6"
  },
  "metadata": {
   "interpreter": {
    "hash": "d28d16ae5c3486006711007e39e32682ffb42a47d76c5b6c9abfdc86d22de644"
   }
  }
 },
 "nbformat": 4,
 "nbformat_minor": 1
}
