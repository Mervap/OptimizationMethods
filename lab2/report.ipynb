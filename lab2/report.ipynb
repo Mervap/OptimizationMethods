{
 "cells": [
  {
   "cell_type": "markdown",
   "metadata": {
    "collapsed": true,
    "pycharm": {
     "name": "#%% md\n"
    }
   },
   "source": [
    "# Авторы\n",
    "Студенты группы M3439:\n",
    "\n",
    "- Тепляков Валерий\n",
    "- Плешаков Алексей\n",
    "- Филипчик Андрей"
   ]
  },
  {
   "cell_type": "markdown",
   "metadata": {
    "pycharm": {
     "name": "#%% md\n"
    }
   },
   "source": [
    "# Source code\n",
    "Исходный код можно посмотреть [тут](https://github.com/Mervap/OptimizationMethods/tree/master/lab2)"
   ]
  },
  {
   "cell_type": "code",
   "execution_count": 1,
   "outputs": [],
   "source": [
    "import math"
   ],
   "metadata": {
    "collapsed": false,
    "pycharm": {
     "name": "#%%\n"
    }
   }
  },
  {
   "cell_type": "markdown",
   "metadata": {
    "pycharm": {
     "name": "#%% md\n"
    }
   },
   "source": [
    "# Задание 2"
   ]
  },
  {
   "cell_type": "code",
   "execution_count": 2,
   "outputs": [],
   "source": [
    "import numpy as np\n",
    "\n",
    "from lab1.task1.golden_ratio import GoldenRatio\n",
    "from lab1.watcher import Watcher\n",
    "from lab2.newton import Newton\n",
    "\n",
    "f1 = (\n",
    "    lambda x, y: 100 * (y - x) ** 2 + (1 - x) ** 2,       # function\n",
    "    lambda x, y: [202 * x - 200 * y - 2, 200 * (y - x)],  # gradient\n",
    "    lambda x, y: [[202, -200], [-200, 200]]               # hessian\n",
    ")\n",
    "\n",
    "f2 = (\n",
    "    lambda x, y: 100 * (y - x ** 2) ** 2 + (1 - x) ** 2,                          # function\n",
    "    lambda x, y: [2 * (200 * x ** 3 - 200 * x * y + x - 1), 200 * (y - x ** 2)],  # gradient\n",
    "    lambda x, y: [[1200 * x ** 2 - 400 * y + 2, -400 * x], [-400 * x, 200]],      # hessian\n",
    ")\n",
    "\n",
    "f3_exp_e1 = lambda x, y: math.exp(-(x - 2) ** 2 / 9 - (y - 3) ** 2 / 4)\n",
    "f3_exp_e2 = lambda x, y: math.exp(-(x - 1) ** 2 / 4 - (y - 1) ** 2)\n",
    "\n",
    "f3 = (\n",
    "    lambda x, y: (-2 * math.exp(-((x - 1) / 2) ** 2 - (y - 1) ** 2) +\n",
    "                  -3 * math.exp(-((x - 2) / 3) ** 2 - ((y - 3) / 2) ** 2)),\n",
    "    lambda x, y: [\n",
    "        2 / 3 * (x - 2) * f3_exp_e1(x, y) + (x - 1) * f3_exp_e2(x, y),     # df/dx\n",
    "        3 / 2 * (y - 3) * f3_exp_e1(x, y) + 4 * (y - 1) * f3_exp_e2(x, y), # df/dy\n",
    "    ],\n",
    "    lambda x, y: [\n",
    "        [\n",
    "            (-4 / 27 * (x - 2) ** 2 + 2 / 3) * f3_exp_e1(x, y) + (1 - 0.5 * (x - 1) ** 2) * f3_exp_e2(x, y), # df/dx^2\n",
    "            -1 / 3 * (x - 2) * (y - 3) * f3_exp_e1(x, y) - 2 * (x - 1) * (y - 1) * f3_exp_e2(x, y),          # df/dxdy\n",
    "        ],\n",
    "        [\n",
    "            -1 / 3 * (x - 2) * (y - 3) * f3_exp_e1(x, y) - 2 * (x - 1) * (y - 1) * f3_exp_e2(x, y),          # df/dydx\n",
    "            (-3 / 4 * (y - 3) ** 2 + 3 / 2) * f3_exp_e1(x, y) + (4 - 8 * (y - 1) ** 2) * f3_exp_e2(x, y),    # df/dy^2\n",
    "        ]\n",
    "    ]\n",
    ")\n",
    "\n",
    "fs = [f1, f2, f3]"
   ],
   "metadata": {
    "collapsed": false,
    "pycharm": {
     "name": "#%%\n"
    }
   }
  },
  {
   "cell_type": "code",
   "execution_count": 3,
   "outputs": [
    {
     "name": "stdout",
     "output_type": "stream",
     "text": [
      "1\n",
      "[0.99999996 1.        ] 1\n",
      "[1.00000004 1.00000004] 3\n",
      "[0.99999992 1.        ] 5\n",
      "[1.00000008 1.00000004] 7\n",
      "[0.99999996 0.99999994] 9\n",
      "2\n",
      "[0.99999997 0.99999993] 4\n",
      "[1.00000005 1.00000009] 19\n",
      "[0.99999999 0.99999997] 39\n",
      "[1.00000001 1.00000002] 60\n",
      "[1. 1.] 75\n",
      "3\n",
      "[1.26303502 1.33439596] 4\n",
      "[1.26303476 1.3343955 ] 9\n",
      "[1.26303502 1.33439596] 13\n",
      "[1.96715155 2.88611509] 18\n",
      "[1.26303502 1.33439596] 24\n"
     ]
    }
   ],
   "source": [
    "initial_points = [\n",
    "    np.array([0, 1]),\n",
    "    np.array([2, 2]),\n",
    "    np.array([-1.0, 1.0]),\n",
    "    np.array([3.0, 2.0]),\n",
    "    np.array([0.1, -0.5]),\n",
    "]\n",
    "\n",
    "ind = 0\n",
    "for (f, grad, hessian) in fs:\n",
    "    f = Watcher(f, grad, hessian)\n",
    "    opt = Newton(f, 1e-6, GoldenRatio)\n",
    "\n",
    "    ind += 1\n",
    "    print(ind)\n",
    "    for ip in initial_points:\n",
    "        try:\n",
    "            mn = opt.opt(ip)\n",
    "            print(mn, opt.get_iterations_cnt())\n",
    "        except RuntimeError as e:\n",
    "            if hasattr(e, 'message'):\n",
    "                print(e.message)\n",
    "            else:\n",
    "                print(e)"
   ],
   "metadata": {
    "collapsed": false,
    "pycharm": {
     "name": "#%%\n"
    }
   }
  }
 ],
 "metadata": {
  "kernelspec": {
   "display_name": "Python 3",
   "language": "python",
   "name": "python3"
  },
  "language_info": {
   "codemirror_mode": {
    "name": "ipython",
    "version": 3
   },
   "file_extension": ".py",
   "mimetype": "text/x-python",
   "name": "python",
   "nbconvert_exporter": "python",
   "pygments_lexer": "ipython3",
   "version": "3.8.5"
  },
  "metadata": {
   "interpreter": {
    "hash": "d28d16ae5c3486006711007e39e32682ffb42a47d76c5b6c9abfdc86d22de644"
   }
  }
 },
 "nbformat": 4,
 "nbformat_minor": 1
}