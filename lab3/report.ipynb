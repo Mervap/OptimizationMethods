{
 "cells": [
  {
   "cell_type": "markdown",
   "metadata": {
    "collapsed": true,
    "pycharm": {
     "name": "#%% md\n"
    }
   },
   "source": [
    "# Авторы\n",
    "Студенты группы M3439:\n",
    "\n",
    "- Тепляков Валерий\n",
    "- Плешаков Алексей\n",
    "- Филипчик Андрей"
   ]
  },
  {
   "cell_type": "markdown",
   "metadata": {
    "pycharm": {
     "name": "#%% md\n"
    }
   },
   "source": [
    "# Source code\n",
    "Исходный код можно посмотреть [тут](https://github.com/Mervap/OptimizationMethods/tree/master/lab3)"
   ]
  },
  {
   "cell_type": "markdown",
   "source": [
    "# Задание 1"
   ],
   "metadata": {
    "collapsed": false,
    "pycharm": {
     "name": "#%% md\n"
    }
   }
  },
  {
   "cell_type": "markdown",
   "source": [
    "# Вопросы"
   ],
   "metadata": {
    "collapsed": false,
    "pycharm": {
     "name": "#%% md\n"
    }
   }
  },
  {
   "cell_type": "markdown",
   "source": [
    "1. Общая и каноническая форма задачи линейного программирования\n",
    "2. Методы естрественного базиса. Метод искусственного базиса\n",
    "3. Доказать, что ОДР (область допустимых решений) является выпуклым множеством\n",
    "4. Может ли ОДР в задаче линейного программирования состоять из одной единственной точки? Если да, то привести пример\n",
    "5. Графический метод решения задачи линейного программирования. Используя графический метод, найти решение задачи линейного программирования:\n",
    "$$f(x)=-3x_1-2x_2 \\rightarrow min$$\n",
    "$$\n",
    "\\begin{cases}\n",
    "  x_1 + 2x_2 \\leqslant 7, \\\\\n",
    "  2x_1+x_2 \\leqslant 8, \\\\\n",
    "  x_2 \\leqslant 3, \\\\\n",
    "  x_1 \\geqslant 0,~x_2 \\geqslant 0.\n",
    "\\end{cases}\n",
    "$$\n",
    "6. Найти все базисы системы равенств и соответствующие им базисные решения:\n",
    "$$\n",
    "\\begin{cases}\n",
    "  x_1+x_2+x_3+x_4 = 1, \\\\\n",
    "  x_1-x_2+x_3-x_4 = 1, \\\\\n",
    "  x_j \\geqslant 0,~j=1,2,3,4.\n",
    "\\end{cases}\n",
    "$$\n",
    "7. В данной системе ограничений выразить базисные переменные указанного базисного допустимого решения\n",
    "\n",
    "$\\overline x=(1,2,0)^T$ через небазисные:\n",
    "$$\n",
    "\\begin{cases}\n",
    "  x_1+x_2+2x_3 = 3, \\\\\n",
    "  -2x_1+3x_2+x_3 = 4, \\\\\n",
    "  x_j \\geqslant 0,~j=1,2,3.\n",
    "\\end{cases}\n",
    "$$\n",
    "8. Исследовать на оптимальность решение $\\overline x=(0,0,1,1)^T$ задачи:\n",
    "$$f(x)=x_1+x_2-2x_3-3x_4 \\rightarrow min$$\n",
    "$$\n",
    "\\begin{cases}\n",
    "  2x_1-x_2+x_3 = 1, \\\\\n",
    "  -x_1+2x_2+x_4 = 1, \\\\\n",
    "  x_j \\geqslant 0,~j=1,2,3,4.\n",
    "\\end{cases}\n",
    "$$"
   ],
   "metadata": {
    "collapsed": false,
    "pycharm": {
     "name": "#%% md\n"
    }
   }
  },
  {
   "cell_type": "markdown",
   "metadata": {
    "pycharm": {
     "name": "#%% md\n"
    }
   },
   "source": []
  }
 ],
 "metadata": {
  "kernelspec": {
   "display_name": "Python 3",
   "language": "python",
   "name": "python3"
  },
  "language_info": {
   "codemirror_mode": {
    "name": "ipython",
    "version": 3
   },
   "file_extension": ".py",
   "mimetype": "text/x-python",
   "name": "python",
   "nbconvert_exporter": "python",
   "pygments_lexer": "ipython3",
   "version": "3.8.5"
  },
  "metadata": {
   "interpreter": {
    "hash": "d28d16ae5c3486006711007e39e32682ffb42a47d76c5b6c9abfdc86d22de644"
   }
  }
 },
 "nbformat": 4,
 "nbformat_minor": 1
}